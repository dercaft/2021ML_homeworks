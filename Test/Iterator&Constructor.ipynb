{
 "cells": [
  {
   "cell_type": "code",
   "execution_count": 1,
   "metadata": {},
   "outputs": [],
   "source": [
    "import os\n",
    "import sys\n",
    "import numpy as np\n",
    "\n",
    "sys.path.append(os.path.dirname(os.getcwd()))\n",
    "from Framework import datasets, models, utils"
   ]
  },
  {
   "cell_type": "code",
   "execution_count": 15,
   "metadata": {},
   "outputs": [],
   "source": [
    "data=[x for x in range(10)]\n",
    "class myIterator:\n",
    "    def __init__(self,data, bs:int=2,shuffle:bool=False):\n",
    "        self.i_list=np.array([i for i in range(len(data))],dtype=np.int)\n",
    "        if(shuffle):\n",
    "            np.random.shuffle(self.i_list)\n",
    "        self.index=0\n",
    "        self.shuffle=shuffle\n",
    "        \n",
    "        self.bs=bs if len(data) >bs else len(data)\n",
    "        self.b_num=len(data)//self.bs\n",
    "        self.b_index=0\n",
    "        self.left=len(data)%self.bs\n",
    "        print(self.b_num,self.left)\n",
    "    def __iter__(self):\n",
    "        return self\n",
    "    \n",
    "    def __next__(self):\n",
    "        if(not self.index<len(data)):\n",
    "            if(self.shuffle):\n",
    "                np.random.shuffle(self.i_list)\n",
    "            self.index=0\n",
    "            self.b_index=0\n",
    "            raise StopIteration\n",
    "        if(self.bs==1):\n",
    "            ret=data[self.i_list[self.index]]\n",
    "            self.index+=1\n",
    "            self.b_index+=1\n",
    "            return ret\n",
    "        if(self.b_index<self.b_num):\n",
    "            a=self.i_list[self.b_index*self.bs:(self.b_index+1)*self.bs]\n",
    "            ret = [data[i] for i in a]\n",
    "            self.index+=self.bs\n",
    "            self.b_index+=1\n",
    "        else:\n",
    "            a = self.i_list[-1*self.left-1:-1]\n",
    "            ret = [data[i] for i in a]\n",
    "            self.index+=self.left\n",
    "        return ret\n",
    "    "
   ]
  },
  {
   "cell_type": "code",
   "execution_count": 17,
   "metadata": {},
   "outputs": [
    {
     "name": "stdout",
     "output_type": "stream",
     "text": [
      "2 2\n",
      "----------\n",
      "0 - [5, 9, 4, 1]\n",
      "1 - [0, 3, 8, 6]\n",
      "2 - [6, 2]\n",
      "==========\n"
     ]
    }
   ],
   "source": [
    "w=myIterator(data,shuffle=True,bs=4)\n",
    "for k in range(1):\n",
    "    print(\"----------\")\n",
    "    for i,k in enumerate(w):\n",
    "        print(i,\"-\",k)\n",
    "    print(\"==========\")"
   ]
  },
  {
   "cell_type": "code",
   "execution_count": null,
   "metadata": {},
   "outputs": [],
   "source": []
  }
 ],
 "metadata": {
  "kernelspec": {
   "display_name": "Python [conda env:object]",
   "language": "python",
   "name": "conda-env-object-py"
  },
  "language_info": {
   "codemirror_mode": {
    "name": "ipython",
    "version": 3
   },
   "file_extension": ".py",
   "mimetype": "text/x-python",
   "name": "python",
   "nbconvert_exporter": "python",
   "pygments_lexer": "ipython3",
   "version": "3.7.6"
  }
 },
 "nbformat": 4,
 "nbformat_minor": 4
}
