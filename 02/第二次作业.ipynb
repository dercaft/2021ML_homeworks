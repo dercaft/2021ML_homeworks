{
 "cells": [
  {
   "cell_type": "markdown",
   "metadata": {},
   "source": [
    "# 机器学习 作业2\n",
    "\n",
    "吴宇航 31520201153897"
   ]
  },
  {
   "cell_type": "markdown",
   "metadata": {},
   "source": [
    "## 第一题："
   ]
  },
  {
   "cell_type": "markdown",
   "metadata": {},
   "source": [
    "## 第二题：\n",
    "\n",
    "### 重构框架：\n",
    "重构后的框架分为四个模块： \n",
    "\n",
    "- **datasets** \n",
    "    数据集模块，每种数据集对应一个类，提供从数据集里获取数据的API\n",
    "- **models** \n",
    "    模型模块，每种模型对应一个类，包含基本的初始化、拟合、训练\n",
    "- **utils** \n",
    "    工具模块，包括基本的dataloader、数据预处理等工具\n",
    "- **mocks** \n",
    "    模拟模块，提供各种带有噪声的数据，如生成基于三角函数的模拟数据\n",
    "\n",
    "### dataset MNIST 类 介绍：\n",
    "\n",
    "主要有以下方法：\n",
    "\n",
    "```python\n",
    "def __init__(self,path:str,typer:str=\"train\"):\n",
    "    ''' 实例化 MNIST类, 需要提供MNIST所在的文件夹路径 '''\n",
    "def _get_image(self,buff,index:int,row:int,col:int)\n",
    "\t''' 从比特字符串缓存中读取一张图片 '''\n",
    "def _image_parser(self,path:str,file:str)\n",
    "\t''' 从比特字符串缓存中读取头信息和所有图片 '''\n",
    "def _label_parser(self,path:str,file:str)\n",
    "\t''' 从比特字符串缓存中读取所有标签 '''\n",
    "def __getitem__(self, index:int)\n",
    "\t''' 获取指定 index 的图片标签对 '''\n",
    "def __len__(self)\n",
    "\t''' 获取数据集数量 '''\n",
    "```\n",
    "\n",
    "### 使用样例："
   ]
  },
  {
   "cell_type": "code",
   "execution_count": 1,
   "metadata": {},
   "outputs": [],
   "source": [
    "import os\n",
    "import sys\n",
    "import numpy as np\n",
    "import struct\n",
    "import matplotlib.pyplot as plt\n",
    "sys.path.append(os.path.dirname(os.getcwd()))\n",
    "from Framework import datasets, models, utils"
   ]
  },
  {
   "cell_type": "code",
   "execution_count": 2,
   "metadata": {},
   "outputs": [],
   "source": [
    "MNIST_PATH=\"/home/wuyuhang/datasets/mnist\""
   ]
  },
  {
   "cell_type": "code",
   "execution_count": 3,
   "metadata": {
    "scrolled": true
   },
   "outputs": [
    {
     "name": "stdout",
     "output_type": "stream",
     "text": [
      "label is:  1\n"
     ]
    },
    {
     "data": {
      "image/png": "[encoded data removed]",
      "text/plain": [
       "<Figure size 432x288 with 1 Axes>"
      ]
     },
     "metadata": {
      "needs_background": "light"
     },
     "output_type": "display_data"
    }
   ],
   "source": [
    "mnist=datasets.MNIST(path=MNIST_PATH,typer=\"valid\")\n",
    "img,label=mnist.__getitem__(5)\n",
    "print(\"label is: \",label)\n",
    "plt.imshow(img)\n",
    "plt.show()"
   ]
  },
  {
   "cell_type": "markdown",
   "metadata": {},
   "source": [
    "## 第三题：\n"
   ]
  },
  {
   "cell_type": "markdown",
   "metadata": {},
   "source": [
    "## 第四题：\n",
    "\n",
    "### 直线拟合的方法：\n",
    "\n",
    "1. 最小二乘法\n",
    "2. 霍夫变换\n",
    "3. RANSAC 随机抽样一致算法\n",
    "\n",
    "### 最小二乘法\n",
    "\n",
    "设直线方程 $ y=k*x+b $ \n",
    "\n",
    "**损失定义**：$$ Loss=\\sum_{i=1}^{n}(\\widehat{y_i}-y_i)^2 $$\n",
    "\n",
    "#### 优缺点：\n",
    "\n",
    "**优势**：简单清晰，运算方便\n",
    "\n",
    "**缺点**：\n",
    "  1. 无法拟合垂直线，越接近垂直线效果越差\n",
    "  2. 每个点的权重相同，受噪声、离群点影响大\n",
    "\n",
    "### 霍夫变换\n",
    "\n",
    "霍夫变换常用于图像处理中，是从图像中识别几何形状的基本方法之一。\n",
    "\n",
    "**基本原理**：用点与线的对偶性，将原始图像空间中的给定曲线通过曲线表达形式变为参数空间的一个点。将原始图像中的曲线检测问题转化成寻找参数空间中的峰值问题。具体到直线拟合中，设待检测直线方程为y=k*x+b, 则对于某数据点 $ (x_0,y_0)$ 有：\n",
    "\n",
    "$$\n",
    "b=x_0\\ k-y_0\n",
    "$$\n",
    "\n",
    "即每个数据点映射到参数空间后都对应着一条直线，N个数据点就有N条直线，那么参数空间中距这些直线最近的点，就是拟合直线的参数。\n",
    "\n",
    "在实际应用中，因为 $ y=k*x+b $ 形式的直线方程无法表示 $ x=c $ 形式的直线，所以采用极坐标系$(p,\\theta )$下的参数方程 $ p=x*cos(\\theta )+y*sin(\\theta ) $ 进行拟合\n",
    "\n",
    "**算法流程**：\n",
    "1. 给定一个参数范围，如 $[ \\rho_1 , \\rho_2 ]$ , $[\\theta_1 , \\theta_2]$\n",
    "2. 按给定步长遍历参数范围，对每个参数对 $[\\rho_i,\\theta_i]$：\n",
    "  - 遍历所有数据点，对每个数据点 $[x_j,y_j]$ :\n",
    "  - 构造直线方程 $\\rho = x_j*cos(\\theta_i )+y_j*sin(\\theta_i ) $：\n",
    "  - 若 $Loss(\\rho_i,\\rho)$ 的误差小于阈值，则给这个参数对投一票\n",
    "3. 在完成所有遍历后，取得票最高的参数对作为拟合直线\n",
    "\n",
    "#### 优缺点：\n",
    "\n",
    "**优点**：相较于最小二乘法，霍夫变换可以在多种信号混杂的情况下提取特定模式的信号\n",
    "\n",
    "**缺点**：\n",
    "  1. 算法的精确性取决于步长大小，步长大则效果差，但步长小又难以找到峰值\n",
    "  2. 每个数据点的权重相同，模型容易受噪声影响\n",
    "\n",
    "### RANSAC\n",
    "\n",
    "**基本假设**：样本中包含正确数据，也包含异常数据，即数据集中含有噪声。\n",
    "\n",
    "**算法流程**：\n",
    "1. 在数据中随机均匀的选择几个点作为内群点\n",
    "   - 拟合选择的内群点\n",
    "2. 将其他点代入拟合的模型，通过阈值threshold判断是否为内群\n",
    "   - 如果是，则加入内群，并重新拟合\n",
    "3. 记录最终内群点数量\n",
    "4. 重复1-3步骤多次\n",
    "5. 比较哪次迭代中内群点数量最多，最多内群点所拟合的模型就是我们所要求的解\n",
    "\n",
    "#### 优缺点：\n",
    "\n",
    "**优点**：算法稳定性好，可以有效避免离群点噪声干扰\n",
    "\n",
    "**缺点**：\n",
    "1. 迭代次数无明确上限；需要设置迭代次数上限，但所得结果可能不是最优结果\n",
    "2. 只能从特定数据集中估计出一个模型，如果存在多个模型，RANSAC不能找到别的模型"
   ]
  },
  {
   "cell_type": "code",
   "execution_count": null,
   "metadata": {},
   "outputs": [],
   "source": []
  }
 ],
 "metadata": {
  "kernelspec": {
   "display_name": "Python [conda env:object]",
   "language": "python",
   "name": "conda-env-object-py"
  },
  "language_info": {
   "codemirror_mode": {
    "name": "ipython",
    "version": 3
   },
   "file_extension": ".py",
   "mimetype": "text/x-python",
   "name": "python",
   "nbconvert_exporter": "python",
   "pygments_lexer": "ipython3",
   "version": "3.7.6"
  }
 },
 "nbformat": 4,
 "nbformat_minor": 4
}
