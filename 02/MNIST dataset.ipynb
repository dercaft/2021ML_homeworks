{
 "cells": [
  {
   "cell_type": "markdown",
   "metadata": {},
   "source": [
    "# 读取MNIST并输出一张图片\n",
    "\n",
    "## 重构框架\n",
    "\n",
    "分为四个模块： \n",
    "\n",
    "- **datasets** \n",
    "    数据集模块，每种数据集对应一个类，提供从数据集里获取数据的API\n",
    "- **models** \n",
    "    模型模块，每种模型对应一个类，包含基本的初始化、拟合、训练\n",
    "- **utils** \n",
    "    工具模块，包括基本的dataloader、数据预处理等工具\n",
    "- **mocks** \n",
    "    模拟模块，提供各种带有噪声的数据，如生成基于三角函数的模拟数据\n",
    "\n",
    "## dataset MNIST 类 介绍\n",
    "\n",
    "主要有以下方法：\n",
    "\n",
    "```python\n",
    "def __init__(self,path:str,typer:str=\"train\"):\n",
    "    ''' 实例化 MNIST类, 需要提供MNIST所在的文件夹路径 '''\n",
    "def _get_image(self,buff,index:int,row:int,col:int)\n",
    "\t''' 从比特字符串缓存中读取一张图片 '''\n",
    "def _image_parser(self,path:str,file:str)\n",
    "\t''' 从比特字符串缓存中读取头信息和所有图片 '''\n",
    "def _label_parser(self,path:str,file:str)\n",
    "\t''' 从比特字符串缓存中读取所有标签 '''\n",
    "def __getitem__(self, index:int)\n",
    "\t''' 获取指定 index 的图片标签对 '''\n",
    "def __len__(self)\n",
    "\t''' 获取数据集数量 '''\n",
    "```\n",
    "\n",
    "## 使用样例"
   ]
  },
  {
   "cell_type": "code",
   "execution_count": 1,
   "metadata": {},
   "outputs": [],
   "source": [
    "import os\n",
    "import sys\n",
    "import numpy as np\n",
    "import struct\n",
    "import matplotlib.pyplot as plt\n",
    "sys.path.append(os.path.dirname(os.getcwd()))\n",
    "from Framework import datasets, models, utils"
   ]
  },
  {
   "cell_type": "code",
   "execution_count": 2,
   "metadata": {},
   "outputs": [],
   "source": [
    "MNIST_PATH=\"/home/wuyuhang/datasets/mnist\""
   ]
  },
  {
   "cell_type": "code",
   "execution_count": 3,
   "metadata": {},
   "outputs": [
    {
     "name": "stdout",
     "output_type": "stream",
     "text": [
      "label is:  1\n"
     ]
    },
    {
     "data": {
      "image/png": "[encoded data removed]",
      "text/plain": [
       "<Figure size 432x288 with 1 Axes>"
      ]
     },
     "metadata": {
      "needs_background": "light"
     },
     "output_type": "display_data"
    }
   ],
   "source": [
    "mnist=datasets.MNIST(path=MNIST_PATH,typer=\"valid\")\n",
    "img,label=mnist.__getitem__(5)\n",
    "print(\"label is: \",label)\n",
    "plt.imshow(img)\n",
    "plt.show()"
   ]
  }
 ],
 "metadata": {
  "kernelspec": {
   "display_name": "Python [conda env:object]",
   "language": "python",
   "name": "conda-env-object-py"
  },
  "language_info": {
   "codemirror_mode": {
    "name": "ipython",
    "version": 3
   },
   "file_extension": ".py",
   "mimetype": "text/x-python",
   "name": "python",
   "nbconvert_exporter": "python",
   "pygments_lexer": "ipython3",
   "version": "3.7.6"
  }
 },
 "nbformat": 4,
 "nbformat_minor": 4
}
