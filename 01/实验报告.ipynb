{
 "cells": [
  {
   "cell_type": "markdown",
   "metadata": {},
   "source": [
    "# 机器学习 第一次作业\n",
    "**吴宇航 31520201153897**"
   ]
  },
  {
   "cell_type": "markdown",
   "metadata": {},
   "source": [
    "## 模型设计\n",
    "定义了一个base基类，并在base基础上实现线性回归模型等算法类\n",
    "<br>base类目前主要功能是加载数据"
   ]
  },
  {
   "cell_type": "markdown",
   "metadata": {},
   "source": [
    "### 具体的定义如下"
   ]
  },
  {
   "cell_type": "code",
   "execution_count": null,
   "metadata": {},
   "outputs": [],
   "source": [
    "class base\n",
    "    def __init__(self, *args, **kwargs) -> None:\n",
    "    def load_data(self, path:str, *args, **kwargs):\n",
    "class linear_regression(base)\n",
    "    def __init__(self,rank:int=1, *args, **kwargs) -> None:\n",
    "    def fit(self):\n",
    "    def predict(self,x):"
   ]
  },
  {
   "cell_type": "markdown",
   "metadata": {},
   "source": [
    "## 示例代码"
   ]
  },
  {
   "cell_type": "code",
   "execution_count": 1,
   "metadata": {},
   "outputs": [],
   "source": [
    "import numpy as np\n",
    "from model import base\n",
    "path=\"./data.txt\""
   ]
  },
  {
   "cell_type": "code",
   "execution_count": 2,
   "metadata": {},
   "outputs": [
    {
     "name": "stdout",
     "output_type": "stream",
     "text": [
      "load 3 data\n",
      "6.0\n"
     ]
    }
   ],
   "source": [
    "linear_model=base.linear_regression(rank=2) # rank 定义模型阶数，初始化权重w=1，b=0\n",
    "linear_model.load_data(path)\n",
    "linear_model.fit() # 进行拟合，求解参数，目前为空\n",
    "result=linear_model.predict(2) #\n",
    "print(result)"
   ]
  },
  {
   "cell_type": "markdown",
   "metadata": {},
   "source": [
    "因为初始化权重为1，而求解参数的函数为空，所以结果为2+2^2=6"
   ]
  }
 ],
 "metadata": {
  "kernelspec": {
   "display_name": "Python [conda env:object]",
   "language": "python",
   "name": "conda-env-object-py"
  },
  "language_info": {
   "codemirror_mode": {
    "name": "ipython",
    "version": 3
   },
   "file_extension": ".py",
   "mimetype": "text/x-python",
   "name": "python",
   "nbconvert_exporter": "python",
   "pygments_lexer": "ipython3",
   "version": "3.7.6"
  }
 },
 "nbformat": 4,
 "nbformat_minor": 4
}
